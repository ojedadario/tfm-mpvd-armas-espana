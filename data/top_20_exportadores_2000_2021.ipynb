{
 "cells": [
  {
   "cell_type": "code",
   "execution_count": null,
   "id": "44ec1004",
   "metadata": {},
   "outputs": [],
   "source": [
    "import pandas as pd"
   ]
  },
  {
   "cell_type": "code",
   "execution_count": null,
   "id": "a21fcd06",
   "metadata": {},
   "outputs": [],
   "source": [
    "df = pd.read_csv(\"TIV-Export-Top-20-2000-2021.csv\", skiprows=9)\n",
    "\n",
    "df"
   ]
  },
  {
   "cell_type": "code",
   "execution_count": null,
   "id": "cfdc7ff3",
   "metadata": {},
   "outputs": [],
   "source": [
    "df = df[['Supplier', '2000-2021']]\n",
    "\n",
    "df"
   ]
  },
  {
   "cell_type": "code",
   "execution_count": null,
   "id": "57694543",
   "metadata": {},
   "outputs": [],
   "source": [
    "df = df.drop([20,21])\n",
    "df"
   ]
  },
  {
   "cell_type": "code",
   "execution_count": null,
   "id": "8db7d957",
   "metadata": {},
   "outputs": [],
   "source": [
    "df = df.rename(columns={\"Supplier\": \"pais\", \"2000-2021\":\"exportaciones\"})\n",
    "df"
   ]
  },
  {
   "cell_type": "code",
   "execution_count": null,
   "id": "5d405a2b",
   "metadata": {},
   "outputs": [],
   "source": [
    "df.to_csv(\"ranking_armas_int_00_21.csv\")"
   ]
  },
  {
   "cell_type": "code",
   "execution_count": null,
   "id": "b0d16aa0",
   "metadata": {},
   "outputs": [],
   "source": []
  }
 ],
 "metadata": {
  "kernelspec": {
   "display_name": "Python 3 (ipykernel)",
   "language": "python",
   "name": "python3"
  },
  "language_info": {
   "codemirror_mode": {
    "name": "ipython",
    "version": 3
   },
   "file_extension": ".py",
   "mimetype": "text/x-python",
   "name": "python",
   "nbconvert_exporter": "python",
   "pygments_lexer": "ipython3",
   "version": "3.9.7"
  }
 },
 "nbformat": 4,
 "nbformat_minor": 5
}
