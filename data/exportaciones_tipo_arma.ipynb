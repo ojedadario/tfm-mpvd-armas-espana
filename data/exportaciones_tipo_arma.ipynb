{
 "cells": [
  {
   "cell_type": "code",
   "execution_count": null,
   "id": "d8391105",
   "metadata": {},
   "outputs": [],
   "source": [
    "import pandas as pd\n",
    "\n",
    "import numpy as np"
   ]
  },
  {
   "cell_type": "code",
   "execution_count": null,
   "id": "0ed82c93",
   "metadata": {},
   "outputs": [],
   "source": [
    "df = pd.read_csv(\"TIV-Export-SPA-1950-2021.csv\", skiprows=9)\n",
    "\n",
    "df"
   ]
  },
  {
   "cell_type": "code",
   "execution_count": null,
   "id": "89487596",
   "metadata": {},
   "outputs": [],
   "source": [
    "df.columns = df.iloc[0] \n",
    "\n",
    "df = df[1:]\n",
    "\n",
    "df"
   ]
  },
  {
   "cell_type": "code",
   "execution_count": null,
   "id": "c344723e",
   "metadata": {},
   "outputs": [],
   "source": [
    "df = df.iloc[: , :-1]\n",
    "\n",
    "df"
   ]
  },
  {
   "cell_type": "code",
   "execution_count": null,
   "id": "4b3396c4",
   "metadata": {},
   "outputs": [],
   "source": [
    "df.columns = df.columns.fillna('tipo_arma')\n",
    "\n",
    "df"
   ]
  },
  {
   "cell_type": "code",
   "execution_count": null,
   "id": "ba0553ba",
   "metadata": {},
   "outputs": [],
   "source": [
    "df = df.drop([7])\n",
    "df"
   ]
  },
  {
   "cell_type": "code",
   "execution_count": null,
   "id": "afcd4e3f",
   "metadata": {},
   "outputs": [],
   "source": [
    "df.to_csv(\"exportaciones_armas_tipo_espana_1950_2021.csv\")"
   ]
  },
  {
   "cell_type": "code",
   "execution_count": null,
   "id": "a3c61b4e",
   "metadata": {},
   "outputs": [],
   "source": []
  },
  {
   "cell_type": "code",
   "execution_count": null,
   "id": "08ed220d",
   "metadata": {},
   "outputs": [],
   "source": []
  }
 ],
 "metadata": {
  "kernelspec": {
   "display_name": "Python 3 (ipykernel)",
   "language": "python",
   "name": "python3"
  },
  "language_info": {
   "codemirror_mode": {
    "name": "ipython",
    "version": 3
   },
   "file_extension": ".py",
   "mimetype": "text/x-python",
   "name": "python",
   "nbconvert_exporter": "python",
   "pygments_lexer": "ipython3",
   "version": "3.9.7"
  }
 },
 "nbformat": 4,
 "nbformat_minor": 5
}
